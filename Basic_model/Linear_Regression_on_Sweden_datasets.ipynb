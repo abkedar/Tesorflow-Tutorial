{
  "nbformat": 4,
  "nbformat_minor": 0,
  "metadata": {
    "colab": {
      "name": "Linear_Regression_on_Sweden_datasets.ipynb",
      "provenance": []
    },
    "kernelspec": {
      "name": "python3",
      "display_name": "Python 3"
    }
  },
  "cells": [
    {
      "cell_type": "markdown",
      "metadata": {
        "id": "Umdh2zzy6uxb",
        "colab_type": "text"
      },
      "source": [
        "DATA\n",
        "SOURCE: \n",
        "\n",
        "DESCRIPTION\n",
        "Reference: Swedish Committee on Analysis of Risk Premium in Motor Insurance.\n",
        "SUMMARY\n",
        "In the dataset,\n",
        "\n",
        "X = number of claims\n",
        "\n",
        "Y = total payment for all the claims in thousands of Swedish Kronor for geographical zones in Sweden\n",
        "\n",
        "Reference:\n",
        "\n",
        "Swedish Committee on Analysis of Risk Premium in Motor Insurance\n",
        "\n",
        "https://college.cengage.com/mathematics/brase/understandable_statistics/7e/students/datasets/slr/frames/slr06.html\n",
        "\n"
      ]
    },
    {
      "cell_type": "code",
      "metadata": {
        "id": "u5-BmFBRHHVq",
        "colab_type": "code",
        "colab": {}
      },
      "source": [
        "import tensorflow as tf"
      ],
      "execution_count": null,
      "outputs": []
    },
    {
      "cell_type": "code",
      "metadata": {
        "id": "SAZZBzsrQoL_",
        "colab_type": "code",
        "colab": {
          "base_uri": "https://localhost:8080/",
          "height": 53
        },
        "outputId": "7be6ad08-6f3c-456d-f1e2-32ebaf19a1ac"
      },
      "source": [
        "# kaggle datasets on link\n",
        "# https://www.kaggle.com/sunmarkil/auto-insurance-in-sweden\n",
        "\n",
        "from google.colab import drive\n",
        "drive.mount('/content/drive')"
      ],
      "execution_count": null,
      "outputs": [
        {
          "output_type": "stream",
          "text": [
            "Drive already mounted at /content/drive; to attempt to forcibly remount, call drive.mount(\"/content/drive\", force_remount=True).\n"
          ],
          "name": "stdout"
        }
      ]
    },
    {
      "cell_type": "code",
      "metadata": {
        "id": "armYe0d3aOF2",
        "colab_type": "code",
        "colab": {}
      },
      "source": [
        "import pandas as pd\n",
        "df = pd.read_csv(\"/content/drive/My Drive/Colab Notebooks/datasets/datasets_6144_9041_insurance.csv\", )"
      ],
      "execution_count": null,
      "outputs": []
    },
    {
      "cell_type": "code",
      "metadata": {
        "id": "7IeDxU9Raah3",
        "colab_type": "code",
        "colab": {}
      },
      "source": [
        "df_1 = df.iloc[7:, :]\n",
        "df_1= df_1[\"Auto Insurance in Sweden\"].str.split(\"\\t\",expand = True) \n",
        "df_1 = df_1.reset_index().drop(columns = ['index'])\n",
        "df_1.columns = df_1.iloc[0, :]\n",
        "df_1 = df_1.drop([0])"
      ],
      "execution_count": null,
      "outputs": []
    },
    {
      "cell_type": "code",
      "metadata": {
        "id": "I4qgdm87pEPT",
        "colab_type": "code",
        "colab": {
          "base_uri": "https://localhost:8080/",
          "height": 196
        },
        "outputId": "0a9a6b4c-0564-44a2-965f-a9732c9638d1"
      },
      "source": [
        "df_1.head()"
      ],
      "execution_count": null,
      "outputs": [
        {
          "output_type": "execute_result",
          "data": {
            "text/html": [
              "<div>\n",
              "<style scoped>\n",
              "    .dataframe tbody tr th:only-of-type {\n",
              "        vertical-align: middle;\n",
              "    }\n",
              "\n",
              "    .dataframe tbody tr th {\n",
              "        vertical-align: top;\n",
              "    }\n",
              "\n",
              "    .dataframe thead th {\n",
              "        text-align: right;\n",
              "    }\n",
              "</style>\n",
              "<table border=\"1\" class=\"dataframe\">\n",
              "  <thead>\n",
              "    <tr style=\"text-align: right;\">\n",
              "      <th></th>\n",
              "      <th>X</th>\n",
              "      <th>Y</th>\n",
              "    </tr>\n",
              "  </thead>\n",
              "  <tbody>\n",
              "    <tr>\n",
              "      <th>1</th>\n",
              "      <td>108</td>\n",
              "      <td>392.5</td>\n",
              "    </tr>\n",
              "    <tr>\n",
              "      <th>2</th>\n",
              "      <td>19</td>\n",
              "      <td>46.2</td>\n",
              "    </tr>\n",
              "    <tr>\n",
              "      <th>3</th>\n",
              "      <td>13</td>\n",
              "      <td>15.7</td>\n",
              "    </tr>\n",
              "    <tr>\n",
              "      <th>4</th>\n",
              "      <td>124</td>\n",
              "      <td>422.2</td>\n",
              "    </tr>\n",
              "    <tr>\n",
              "      <th>5</th>\n",
              "      <td>40</td>\n",
              "      <td>119.4</td>\n",
              "    </tr>\n",
              "  </tbody>\n",
              "</table>\n",
              "</div>"
            ],
            "text/plain": [
              "0    X      Y\n",
              "1  108  392.5\n",
              "2   19   46.2\n",
              "3   13   15.7\n",
              "4  124  422.2\n",
              "5   40  119.4"
            ]
          },
          "metadata": {
            "tags": []
          },
          "execution_count": 282
        }
      ]
    },
    {
      "cell_type": "code",
      "metadata": {
        "id": "TE2ACwu-b_8h",
        "colab_type": "code",
        "colab": {}
      },
      "source": [
        "# Parameters.\n",
        "learning_rate = 0.01\n",
        "training_steps = 1000\n",
        "display_step = 50"
      ],
      "execution_count": null,
      "outputs": []
    },
    {
      "cell_type": "code",
      "metadata": {
        "id": "PCjfun0IdlUO",
        "colab_type": "code",
        "colab": {}
      },
      "source": [
        "# Converting data data to array\n",
        "import numpy as np\n",
        "rng = np.random\n",
        "\n",
        "X = np.array(df_1['X'])\n",
        "Y = np.array(df_1['Y'])"
      ],
      "execution_count": null,
      "outputs": []
    },
    {
      "cell_type": "code",
      "metadata": {
        "id": "HpliI8rplXzP",
        "colab_type": "code",
        "colab": {}
      },
      "source": [
        "# Weight and bias initialized randomly,\n",
        "W = tf.Variable(rng.randn(), name=\"weight\")\n",
        "b = tf.Variable(rng.randn(), name=\"bias\")\n",
        "\n",
        "# Define Linear Regression (Wx + b)\n",
        "def linear_regression(x):\n",
        "  return (W * x + b)\n",
        "\n",
        "def mean_square(y_pred, y_true):\n",
        "  return (tf.reduce_mean(tf.square(y_pred - y_true)))\n",
        "\n",
        "# Stochastic Gradient Desent Optimizer.\n",
        "# optimizer = tf.optimizers.Adam(learning_rate, beta_1=0.5, beta_2=0.888, epsilon=1e-07, amsgrad=False,\n",
        "#    name='Adam')\n",
        "\n",
        "#optimizer = tf.optimizers.Adagrad(learning_rate, epsilon=1e-06)\n",
        "optimizer = tf.optimizers.Adamax(learning_rate, beta_1=0.5, beta_2=0.666, epsilon=1e-06)"
      ],
      "execution_count": null,
      "outputs": []
    },
    {
      "cell_type": "code",
      "metadata": {
        "id": "8ILbGo-MsRYq",
        "colab_type": "code",
        "colab": {}
      },
      "source": [
        "def run_optimization():\n",
        "\n",
        "  # Wrap computation inside a GraditTape for automatic differentiation\n",
        "  with tf.GradientTape() as tape:\n",
        "    pred = linear_regression(X)\n",
        "    loss = mean_square(pred, Y)\n",
        "\n",
        "    # Compute gradient,\n",
        "    gradients = tape.gradient(loss, [W, b])\n",
        "\n",
        "    # Update W and b following gradient,\n",
        "    optimizer.apply_gradients(zip(gradients, [W, b]))"
      ],
      "execution_count": null,
      "outputs": []
    },
    {
      "cell_type": "code",
      "metadata": {
        "id": "6f5RBV0AwrOm",
        "colab_type": "code",
        "colab": {
          "base_uri": "https://localhost:8080/",
          "height": 351
        },
        "outputId": "e1af01d8-499a-46a6-e451-788c68b73c88"
      },
      "source": [
        "# Run training for the given number of steps.\n",
        "for step in range(1, training_steps + 1):\n",
        "  # Run the optimization to update W and b\n",
        "  run_optimization()\n",
        "\n",
        "  if step % display_step == 0:\n",
        "    pred = linear_regression(X)\n",
        "    loss = mean_square(pred, Y)\n",
        "    print(\"step: %i, loss: %f, W: %f, b: %f\" % (step, loss, W.numpy(), b.numpy()))"
      ],
      "execution_count": null,
      "outputs": [
        {
          "output_type": "stream",
          "text": [
            "step: 50, loss: 16641.451172, W: 0.056206, b: 0.252903\n",
            "step: 100, loss: 12795.944336, W: 0.557658, b: 0.754226\n",
            "step: 150, loss: 9506.222656, W: 1.059359, b: 1.255751\n",
            "step: 200, loss: 6772.605957, W: 1.561412, b: 1.757553\n",
            "step: 250, loss: 4595.570801, W: 2.064001, b: 2.259754\n",
            "step: 300, loss: 2975.890869, W: 2.567510, b: 2.762588\n",
            "step: 350, loss: 1915.029175, W: 3.072992, b: 3.266576\n",
            "step: 400, loss: 1417.197632, W: 3.586497, b: 3.773447\n",
            "step: 450, loss: 1375.639648, W: 3.752771, b: 4.278399\n",
            "step: 500, loss: 1367.815918, W: 3.740770, b: 4.778726\n",
            "step: 550, loss: 1360.246338, W: 3.729171, b: 5.279077\n",
            "step: 600, loss: 1352.925293, W: 3.722571, b: 5.779414\n",
            "step: 650, loss: 1345.861572, W: 3.707119, b: 6.279816\n",
            "step: 700, loss: 1339.044800, W: 3.696989, b: 6.780187\n",
            "step: 750, loss: 1332.486450, W: 3.685650, b: 7.280605\n",
            "step: 800, loss: 1326.176270, W: 3.679366, b: 7.780984\n",
            "step: 850, loss: 1320.119873, W: 3.665098, b: 8.281427\n",
            "step: 900, loss: 1314.315552, W: 3.655150, b: 8.781927\n",
            "step: 950, loss: 1308.772461, W: 3.642749, b: 9.282372\n",
            "step: 1000, loss: 1303.475220, W: 3.635914, b: 9.782807\n"
          ],
          "name": "stdout"
        }
      ]
    },
    {
      "cell_type": "code",
      "metadata": {
        "id": "Q5Kzoq6bxcHU",
        "colab_type": "code",
        "colab": {
          "base_uri": "https://localhost:8080/",
          "height": 265
        },
        "outputId": "ff1c52cb-0663-4e59-b114-1ac6ca5dcc2a"
      },
      "source": [
        "import matplotlib.pyplot as plt\n",
        "\n",
        "# Graphic display\n",
        "plt.plot(X, Y, 'ro', label='Original data')\n",
        "plt.plot(X, np.array(W * X + b), label='Fitted line')\n",
        "plt.legend()\n",
        "plt.show()"
      ],
      "execution_count": null,
      "outputs": [
        {
          "output_type": "display_data",
          "data": {
            "image/png": "[encoded data removed]",
            "text/plain": [
              "<Figure size 432x288 with 1 Axes>"
            ]
          },
          "metadata": {
            "tags": [],
            "needs_background": "light"
          }
        }
      ]
    },
    {
      "cell_type": "code",
      "metadata": {
        "id": "8kBBaWoN3rIM",
        "colab_type": "code",
        "colab": {
          "base_uri": "https://localhost:8080/",
          "height": 33
        },
        "outputId": "6e21c603-8ca1-46f0-d093-82c29a29bde1"
      },
      "source": [
        "W"
      ],
      "execution_count": null,
      "outputs": [
        {
          "output_type": "execute_result",
          "data": {
            "text/plain": [
              "<tf.Variable 'weight:0' shape=() dtype=float32, numpy=3.4204686>"
            ]
          },
          "metadata": {
            "tags": []
          },
          "execution_count": 268
        }
      ]
    },
    {
      "cell_type": "code",
      "metadata": {
        "id": "ilz6eBpj35PJ",
        "colab_type": "code",
        "colab": {}
      },
      "source": [
        ""
      ],
      "execution_count": null,
      "outputs": []
    }
  ]
}