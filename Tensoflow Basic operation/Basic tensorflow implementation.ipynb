{
  "nbformat": 4,
  "nbformat_minor": 0,
  "metadata": {
    "colab": {
      "name": "Welcome To Colaboratory",
      "provenance": [],
      "collapsed_sections": [],
      "toc_visible": true
    },
    "kernelspec": {
      "display_name": "Python 3",
      "name": "python3"
    }
  },
  "cells": [
    {
      "cell_type": "markdown",
      "metadata": {
        "id": "GE5o08GCDMOv",
        "colab_type": "text"
      },
      "source": [
        "# Method to Operating tensorflow operation in version v.1"
      ]
    },
    {
      "cell_type": "code",
      "metadata": {
        "id": "-p59iGlG74x9",
        "colab_type": "code",
        "colab": {
          "base_uri": "https://localhost:8080/",
          "height": 87
        },
        "outputId": "2c69e1e4-b5f3-45a4-8699-d5dc97a6d36c"
      },
      "source": [
        "import tensorflow.compat.v1 as tf\n",
        "tf.disable_v2_behavior()"
      ],
      "execution_count": 3,
      "outputs": [
        {
          "output_type": "stream",
          "text": [
            "WARNING:tensorflow:From /usr/local/lib/python3.6/dist-packages/tensorflow/python/compat/v2_compat.py:96: disable_resource_variables (from tensorflow.python.ops.variable_scope) is deprecated and will be removed in a future version.\n",
            "Instructions for updating:\n",
            "non-resource variables are not supported in the long term\n"
          ],
          "name": "stdout"
        }
      ]
    },
    {
      "cell_type": "markdown",
      "metadata": {
        "id": "qb-NdcA-87oH",
        "colab_type": "text"
      },
      "source": [
        "## Method 1: To execute tensorflow operation by defining single variable as constant."
      ]
    },
    {
      "cell_type": "code",
      "metadata": {
        "id": "DojVM55x8BtD",
        "colab_type": "code",
        "colab": {
          "base_uri": "https://localhost:8080/",
          "height": 67
        },
        "outputId": "1330bfb7-e47f-438e-d4d3-84af02ad565e"
      },
      "source": [
        "a = tf.constant(2)\n",
        "b = tf.constant(3)\n",
        "\n",
        "with tf.Session() as sess:\n",
        "  print(\"a: %i \" %sess.run(a), \"b: %i\"%sess.run(b))\n",
        "  print(\"Addition with constant: %i\" % sess.run(a+b))\n",
        "  print('Mutiplication with constant: %i' %sess.run(a*b))"
      ],
      "execution_count": 5,
      "outputs": [
        {
          "output_type": "stream",
          "text": [
            "a: 2  b: 3\n",
            "Addition with constant: 5\n",
            "Mutiplication with constant: 6\n"
          ],
          "name": "stdout"
        }
      ]
    },
    {
      "cell_type": "markdown",
      "metadata": {
        "id": "z1d1htgG9EnH",
        "colab_type": "text"
      },
      "source": [
        "## Method 2 :To execute operation in tensorflow by defining variable using variable in placeholder."
      ]
    },
    {
      "cell_type": "code",
      "metadata": {
        "id": "bwSudXKb8xbp",
        "colab_type": "code",
        "colab": {
          "base_uri": "https://localhost:8080/",
          "height": 50
        },
        "outputId": "defbf819-2858-4197-d32a-ce84a52b3ff9"
      },
      "source": [
        "# Initialize variable\n",
        "a = tf.placeholder(tf.int16)\n",
        "b = tf.placeholder(tf.int16)\n",
        "\n",
        "# Defining operation\n",
        "add = tf.add(a, b)\n",
        "mult = tf.multiply(a, b)\n",
        "\n",
        "# Launch default graph\n",
        "with tf.Session() as sess:\n",
        "  print(\"Addition with variable : %i\" % sess.run(add, feed_dict={a:2, b:3}))\n",
        "  print(\"Multiplication with variable: %i\"% sess.run(mult, feed_dict={a:2, b:3}))"
      ],
      "execution_count": 13,
      "outputs": [
        {
          "output_type": "stream",
          "text": [
            "Addition with variable : 5\n",
            "Multiplication with variable: 6\n"
          ],
          "name": "stdout"
        }
      ]
    },
    {
      "cell_type": "markdown",
      "metadata": {
        "id": "aJXBZiMqB3Ww",
        "colab_type": "text"
      },
      "source": [
        "## Method 3: To execute tensorflow operation by defining variable as constant and mutiplying using Matmul\n"
      ]
    },
    {
      "cell_type": "code",
      "metadata": {
        "id": "liVxWzz7-nwq",
        "colab_type": "code",
        "colab": {}
      },
      "source": [
        "# ----------------\n",
        "# More in details:\n",
        "# Matrix Multiplication from TensorFlow official tutorial\n",
        "\n",
        "# Create a Constant op that produces a 1x2 matrix.  The op is\n",
        "# added as a node to the default graph.\n",
        "#\n",
        "# The value returned by the constructor represents the output\n",
        "# of the Constant op.\n",
        "matrix1 = tf.constant([[3., 3.]])"
      ],
      "execution_count": 14,
      "outputs": []
    },
    {
      "cell_type": "code",
      "metadata": {
        "id": "SicH_IHx_juG",
        "colab_type": "code",
        "colab": {}
      },
      "source": [
        "# Create another constant that produces 2x1 matrix.\n",
        "matrix2 = tf.constant([[2.], [2.]])"
      ],
      "execution_count": 16,
      "outputs": []
    },
    {
      "cell_type": "code",
      "metadata": {
        "id": "nJTDIGMg_3GL",
        "colab_type": "code",
        "colab": {
          "base_uri": "https://localhost:8080/",
          "height": 33
        },
        "outputId": "6dcd7ee1-d961-405a-8e7e-8f4c78456952"
      },
      "source": [
        "# Define matmul, which accept two matrix define in above two,\n",
        "# return product of matrix define above,\n",
        "product = tf.matmul(matrix1, matrix2)\n",
        "\n",
        "with tf.Session() as sess:\n",
        "  result = sess.run(product)\n",
        "  print(result)"
      ],
      "execution_count": 19,
      "outputs": [
        {
          "output_type": "stream",
          "text": [
            "[[12.]]\n"
          ],
          "name": "stdout"
        }
      ]
    },
    {
      "cell_type": "markdown",
      "metadata": {
        "id": "Y3rdHRKzELTm",
        "colab_type": "text"
      },
      "source": [
        "# Method to Operating tensorflow operation in version v.2"
      ]
    },
    {
      "cell_type": "code",
      "metadata": {
        "id": "yzGzBdqiA3rs",
        "colab_type": "code",
        "colab": {}
      },
      "source": [
        "%tensorflow_version 2.x\n",
        "import tensorflow as tf\n",
        "\n",
        "import numpy as np\n",
        "import matplotlib.pyplot as plt"
      ],
      "execution_count": 10,
      "outputs": []
    },
    {
      "cell_type": "markdown",
      "metadata": {
        "id": "g6y6Ln1KlTH9",
        "colab_type": "text"
      },
      "source": [
        "## Whtat is rank in tensorflow? & how to know it?\n",
        "- rank show the number of dimension a define tensor is.\n",
        "- we can know it using syntax show in below cell.\n",
        "- we have define two tensor as constant one it *string* and another is *float* we have find its rank."
      ]
    },
    {
      "cell_type": "code",
      "metadata": {
        "id": "BEIUjE-OgefP",
        "colab_type": "code",
        "colab": {
          "base_uri": "https://localhost:8080/",
          "height": 50
        },
        "outputId": "4834dafc-e24e-458b-a235-f8d094348785"
      },
      "source": [
        "# 0-d Tensor, of which is scaler in an example.\n",
        "sport = tf.constant('Tennis', tf.string)\n",
        "number = tf.constant(1.41421356237, tf.float64)\n",
        "\n",
        "print(\"sport is {}-d tensor\".format(tf.rank(sport).numpy()))\n",
        "print(\"number id {}-d tensor\".format(tf.rank(number).numpy()))"
      ],
      "execution_count": 11,
      "outputs": [
        {
          "output_type": "stream",
          "text": [
            "sport is 0-d tensor\n",
            "number id 0-d tensor\n"
          ],
          "name": "stdout"
        }
      ]
    },
    {
      "cell_type": "markdown",
      "metadata": {
        "id": "kCDtQpLg-dau",
        "colab_type": "text"
      },
      "source": [
        "When tensor define within list we call it as vectors."
      ]
    },
    {
      "cell_type": "code",
      "metadata": {
        "id": "HYY__-Uw92Si",
        "colab_type": "code",
        "colab": {
          "base_uri": "https://localhost:8080/",
          "height": 50
        },
        "outputId": "269518b9-433a-41b4-b40a-edc4fd2133d7"
      },
      "source": [
        "sports = tf.constant([\"Tennis\", \"Basketball\"], tf.string)\n",
        "number = tf.constant([3.1415373, 1.4594, 2.71821], tf.float64)\n",
        "\n",
        "print(\"sport is {}\".format(tf.rank(sports).numpy(), tf.string))\n",
        "print(\"number is {}\".format(tf.rank(number).numpy(), tf.string))"
      ],
      "execution_count": 12,
      "outputs": [
        {
          "output_type": "stream",
          "text": [
            "sport is 1\n",
            "number is 1\n"
          ],
          "name": "stdout"
        }
      ]
    },
    {
      "cell_type": "markdown",
      "metadata": {
        "id": "m5A9eNG7CsEA",
        "colab_type": "text"
      },
      "source": [
        "Building 2-d tensor for same 'sport' and 'number'"
      ]
    },
    {
      "cell_type": "code",
      "metadata": {
        "id": "F8sfwQZfCRmw",
        "colab_type": "code",
        "colab": {
          "base_uri": "https://localhost:8080/",
          "height": 50
        },
        "outputId": "c8a71f95-85dc-4c68-e6f3-9f61821de51f"
      },
      "source": [
        "sports = tf.constant([[2.543, 5.91093, 8.9342], [3.1241, 2.323, 1.422]], tf.float64)\n",
        "number = tf.constant([['Criket', 'Basketball'], ['Football', 'Hokey']], tf.string)\n",
        "\n",
        "print('sports {}-d Tensor'.format(tf.rank(sports).numpy(), tf.float64))\n",
        "print('number {}-d Tensor'.format(tf.rank(sports).numpy(), tf.string))"
      ],
      "execution_count": 13,
      "outputs": [
        {
          "output_type": "stream",
          "text": [
            "sports 2-d Tensor\n",
            "number 2-d Tensor\n"
          ],
          "name": "stdout"
        }
      ]
    },
    {
      "cell_type": "markdown",
      "metadata": {
        "id": "YYo7d_1TGCXU",
        "colab_type": "text"
      },
      "source": [
        "## Computation in tensorlfow of version2"
      ]
    },
    {
      "cell_type": "code",
      "metadata": {
        "id": "AIQJjUe9ESnp",
        "colab_type": "code",
        "colab": {
          "base_uri": "https://localhost:8080/",
          "height": 50
        },
        "outputId": "5c85eede-541f-494e-d46a-fa0d8b68d27a"
      },
      "source": [
        "# Create nodes in graph and initialize value\n",
        "a = tf.constant(15)\n",
        "b = tf.constant(20)\n",
        "\n",
        "# add them\n",
        "c1 = tf.add(a, b)\n",
        "c2 = a + b\n",
        "print(c1)\n",
        "print(c2)"
      ],
      "execution_count": 14,
      "outputs": [
        {
          "output_type": "stream",
          "text": [
            "tf.Tensor(35, shape=(), dtype=int32)\n",
            "tf.Tensor(35, shape=(), dtype=int32)\n"
          ],
          "name": "stdout"
        }
      ]
    },
    {
      "cell_type": "markdown",
      "metadata": {
        "id": "DFhvBq5BG1Qj",
        "colab_type": "text"
      },
      "source": [
        "## Defining a computation operation inside a function."
      ]
    },
    {
      "cell_type": "code",
      "metadata": {
        "id": "A1zovFtkGmAB",
        "colab_type": "code",
        "colab": {}
      },
      "source": [
        "def funct(a, b):\n",
        "\n",
        "  c = tf.add(a,b)\n",
        "  d = tf.subtract(a,b)\n",
        "  e = tf.multiply(c,d)\n",
        "  return e"
      ],
      "execution_count": 15,
      "outputs": []
    },
    {
      "cell_type": "code",
      "metadata": {
        "id": "uoDc8ivfICZu",
        "colab_type": "code",
        "colab": {}
      },
      "source": [
        "# Consider example values for a, b\n",
        "a, b = 6, 5\n",
        "# Execute the compution\n",
        "e_out = funct(a, b)"
      ],
      "execution_count": 16,
      "outputs": []
    },
    {
      "cell_type": "code",
      "metadata": {
        "id": "9Nmm1tG5IbXi",
        "colab_type": "code",
        "colab": {
          "base_uri": "https://localhost:8080/",
          "height": 33
        },
        "outputId": "da1972fe-c5bc-4f4b-ca62-e26200999782"
      },
      "source": [
        "print(e_out)"
      ],
      "execution_count": 21,
      "outputs": [
        {
          "output_type": "stream",
          "text": [
            "tf.Tensor(11, shape=(), dtype=int32)\n"
          ],
          "name": "stdout"
        }
      ]
    },
    {
      "cell_type": "markdown",
      "metadata": {
        "id": "RmVqUenZ_HKy",
        "colab_type": "text"
      },
      "source": [
        "## Basic tensorflow program ***Hello World***."
      ]
    },
    {
      "cell_type": "code",
      "metadata": {
        "id": "qgBgp0ZQAMbQ",
        "colab_type": "code",
        "colab": {
          "base_uri": "https://localhost:8080/",
          "height": 33
        },
        "outputId": "c87b55ce-bd11-496b-9526-3389789a3485"
      },
      "source": [
        "# simple hello world using Tensorflow.\n",
        "# This op is added as note to the default graph.\n",
        "\n",
        "# The value return by the constructor represented the output\n",
        "# of the constant.\n",
        "hello = tf.constant('hello tensorflow!' )\n",
        "\n",
        "# Run the op\n",
        "print(hello)"
      ],
      "execution_count": 19,
      "outputs": [
        {
          "output_type": "stream",
          "text": [
            "tf.Tensor(b'hello tensorflow!', shape=(), dtype=string)\n"
          ],
          "name": "stdout"
        }
      ]
    },
    {
      "cell_type": "code",
      "metadata": {
        "id": "lrgmfpanAZ9U",
        "colab_type": "code",
        "colab": {}
      },
      "source": [
        ""
      ],
      "execution_count": null,
      "outputs": []
    }
  ]
}